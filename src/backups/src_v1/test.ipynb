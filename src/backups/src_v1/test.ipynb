{
 "cells": [
  {
   "cell_type": "code",
   "execution_count": 7,
   "metadata": {},
   "outputs": [
    {
     "name": "stdout",
     "output_type": "stream",
     "text": [
      "Integer Scores - Quadratic Weighted Kappa: 0.8784\n",
      "Float Scores (Unique values) - Quadratic Weighted Kappa: 0.0000\n",
      "Float Scores (Custom bins) - Quadratic Weighted Kappa: 0.0000\n"
     ]
    }
   ],
   "source": [
    "import numpy as np\n",
    "from sklearn.metrics import confusion_matrix\n",
    "\n",
    "def quadratic_weighted_kappa(holistic_scores, true_scores, bins=None):\n",
    "    \"\"\"\n",
    "    두 평가자 간의 Quadratic Weighted Kappa 점수를 계산합니다.\n",
    "    실수 값을 처리할 수 있으며, bins 파라미터를 이용해 구간 설정이 가능합니다.\n",
    "    \n",
    "    매개변수:\n",
    "    holistic_scores -- 첫 번째 평가자의 점수 리스트 (정수 또는 실수)\n",
    "    true_scores -- 두 번째 평가자의 점수 리스트 (정수 또는 실수)\n",
    "    bins -- 점수를 분류할 구간 경계(실수 사용 시). None일 경우 고유값 사용\n",
    "    \n",
    "    반환값:\n",
    "    qwk -- Quadratic Weighted Kappa 점수 (float)\n",
    "    \"\"\"\n",
    "    # 입력값을 numpy 배열로 변환 (실수값 허용)\n",
    "    holistic_scores = np.array(holistic_scores, dtype=float)\n",
    "    true_scores = np.array(true_scores, dtype=float)\n",
    "    \n",
    "    # 실수값 처리를 위한 구간화(binning) 처리\n",
    "    if bins is None:\n",
    "        # 고유값을 모두 추출하여 정렬\n",
    "        unique_ratings = np.sort(np.unique(np.concatenate([holistic_scores, true_scores])))\n",
    "        num_ratings = len(unique_ratings)\n",
    "        \n",
    "        # 값을 인덱스로 변환하는 매핑 생성\n",
    "        rating_to_idx = {rating: idx for idx, rating in enumerate(unique_ratings)}\n",
    "        \n",
    "        # 점수를 인덱스로 변환\n",
    "        holistic_indices = np.array([rating_to_idx[score] for score in holistic_scores])\n",
    "        true_indices = np.array([rating_to_idx[score] for score in true_scores])\n",
    "    else:\n",
    "        # 주어진 bins로 점수를 구간화\n",
    "        bins = np.array(bins)\n",
    "        holistic_indices = np.digitize(holistic_scores, bins) \n",
    "        true_indices = np.digitize(true_scores, bins)\n",
    "        num_ratings = len(bins) + 1\n",
    "    \n",
    "    # 실제 관찰된 빈도 행렬 (confusion matrix) 계산\n",
    "    observed = confusion_matrix(true_indices, holistic_indices, \n",
    "                               labels=list(range(num_ratings)))\n",
    "    \n",
    "    # 기대 빈도 행렬 계산\n",
    "    # 각 평가자의 점수 분포에 기반한 기대 빈도\n",
    "    hist_true = np.bincount(true_indices, minlength=num_ratings)\n",
    "    hist_holistic = np.bincount(holistic_indices, minlength=num_ratings)\n",
    "    \n",
    "    # 외적으로 기대 빈도 행렬 계산\n",
    "    expected = np.outer(hist_true, hist_holistic) / float(len(true_scores))\n",
    "    \n",
    "    # 가중치 행렬 계산 (quadratic weights)\n",
    "    weights = np.zeros((num_ratings, num_ratings))\n",
    "    for i in range(num_ratings):\n",
    "        for j in range(num_ratings):\n",
    "            weights[i, j] = ((i - j) ** 2) / ((num_ratings - 1) ** 2)\n",
    "    \n",
    "    # QWK 계산\n",
    "    numerator = np.sum(weights * observed)\n",
    "    denominator = np.sum(weights * expected)\n",
    "    \n",
    "    # 분모가 0인 경우 (완벽한 일치)\n",
    "    if denominator == 0:\n",
    "        return 1.0\n",
    "    \n",
    "    qwk = 1 - (numerator / denominator)\n",
    "    return qwk\n",
    "\n",
    "# 사용 예시\n",
    "if __name__ == \"__main__\":\n",
    "    # 정수 예시 데이터\n",
    "    holistic_scores_int = [1, 2, 3, 4, 5, 4, 3, 2, 1]\n",
    "    true_scores_int = [1, 2, 3, 4, 5, 5, 4, 3, 2]\n",
    "    \n",
    "    qwk_int = quadratic_weighted_kappa(holistic_scores_int, true_scores_int)\n",
    "    print(f\"Integer Scores - Quadratic Weighted Kappa: {qwk_int:.4f}\")\n",
    "    \n",
    "    # 실수 예시 데이터\n",
    "    holistic_scores_float = [4.0]\n",
    "    true_scores_float = [3.5]\n",
    "    \n",
    "    # 방법 1: 고유값 사용 (기본값)\n",
    "    qwk_float1 = quadratic_weighted_kappa(holistic_scores_float, true_scores_float)\n",
    "    print(f\"Float Scores (Unique values) - Quadratic Weighted Kappa: {qwk_float1:.4f}\")\n",
    "    \n",
    "    # 방법 2: 구간 경계 지정\n",
    "    bins = [1.0, 2.0, 3.0, 4.0, 5.0]  # 1-5 사이 1점 간격 구간\n",
    "    qwk_float2 = quadratic_weighted_kappa(holistic_scores_float, true_scores_float, bins)\n",
    "    print(f\"Float Scores (Custom bins) - Quadratic Weighted Kappa: {qwk_float2:.4f}\")"
   ]
  },
  {
   "cell_type": "code",
   "execution_count": 4,
   "metadata": {},
   "outputs": [
    {
     "data": {
      "text/plain": [
       "False"
      ]
     },
     "execution_count": 4,
     "metadata": {},
     "output_type": "execute_result"
    }
   ],
   "source": [
    "None == False"
   ]
  },
  {
   "cell_type": "code",
   "execution_count": 6,
   "metadata": {},
   "outputs": [
    {
     "name": "stdout",
     "output_type": "stream",
     "text": [
      "ddddd\n"
     ]
    }
   ],
   "source": [
    "if \"\":\n",
    "    print(\"Dd\")\n",
    "else:\n",
    "    print(\"ddddd\")"
   ]
  },
  {
   "cell_type": "code",
   "execution_count": null,
   "metadata": {},
   "outputs": [],
   "source": []
  }
 ],
 "metadata": {
  "kernelspec": {
   "display_name": "aes",
   "language": "python",
   "name": "python3"
  },
  "language_info": {
   "codemirror_mode": {
    "name": "ipython",
    "version": 3
   },
   "file_extension": ".py",
   "mimetype": "text/x-python",
   "name": "python",
   "nbconvert_exporter": "python",
   "pygments_lexer": "ipython3",
   "version": "3.10.16"
  }
 },
 "nbformat": 4,
 "nbformat_minor": 2
}
